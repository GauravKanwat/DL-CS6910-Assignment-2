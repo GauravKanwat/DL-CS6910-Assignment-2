{
 "cells": [
  {
   "cell_type": "markdown",
   "id": "8065cfbf-42b5-4dd4-83b9-005c14682cf5",
   "metadata": {},
   "source": [
    "# Part B - Fine-tuning a Pretrained model (GoogLeNet)"
   ]
  },
  {
   "cell_type": "markdown",
   "id": "12129816-6457-463c-8019-12812469d051",
   "metadata": {},
   "source": [
    "### Importing required libraries"
   ]
  },
  {
   "cell_type": "code",
   "execution_count": 7,
   "id": "5975379f-8351-450c-9898-56bd5165fbb0",
   "metadata": {},
   "outputs": [],
   "source": [
    "from tqdm.auto import tqdm\n",
    "import random\n",
    "import torch\n",
    "import torch.nn as nn\n",
    "import torch.optim as optim\n",
    "import torch.utils.data as data_utils\n",
    "from torchvision import models, datasets, transforms\n",
    "from torch.utils.data import DataLoader\n",
    "import matplotlib.pyplot as plt\n",
    "import numpy as np\n",
    "import pathlib\n",
    "import wandb"
   ]
  },
  {
   "cell_type": "markdown",
   "id": "c0f2120a-6e5a-4bd1-9c4b-f38232639c4f",
   "metadata": {},
   "source": [
    "### Logging in Wandb"
   ]
  },
  {
   "cell_type": "code",
   "execution_count": 8,
   "id": "8e66e8a1-51d5-41fc-8932-272d756e4e2d",
   "metadata": {},
   "outputs": [
    {
     "data": {
      "text/plain": [
       "True"
      ]
     },
     "execution_count": 8,
     "metadata": {},
     "output_type": "execute_result"
    }
   ],
   "source": [
    "wandb.login()"
   ]
  },
  {
   "cell_type": "markdown",
   "id": "7c0ce287-4827-4379-ba8d-dca2379101ad",
   "metadata": {},
   "source": [
    "## Data generation"
   ]
  },
  {
   "cell_type": "markdown",
   "id": "8bdd7a44-7394-4e75-a73c-d35b287d2bcf",
   "metadata": {},
   "source": [
    "#### Data generation and transformation for better training input for the model\n",
    "- From the dataset path provided in main, we are generating the dataset and performing transformation to get better training data for the model\n",
    "- Applying the normalization using mean and standard deviation (calculated using \"get_mean_and_std\" on training dataset)\n",
    "- Splitting 20% of the training dataset such that 80% is in training dataset and 20% is in testing dataset\n",
    "- Validation dataset is generated such that every class contains an equal amount of data (200 images in each class)"
   ]
  },
  {
   "cell_type": "code",
   "execution_count": 15,
   "id": "971db3d8-ef88-445c-8cba-b4f55d04998a",
   "metadata": {},
   "outputs": [],
   "source": [
    "def data_generation(dataset_path, num_classes=10, data_augmentation=False, batch_size=32):\n",
    "    \n",
    "    # Mean and standard deviation values calculated from function get_mean_and_std on training dataset\n",
    "\n",
    "    mean = [0.4708, 0.4596, 0.3891]\n",
    "    std = [0.1951, 0.1892, 0.1859]\n",
    "\n",
    "\n",
    "    # Define transformations for training and testing data\n",
    "    \n",
    "    augment_transform = transforms.Compose([\n",
    "        transforms.Resize((224, 224)), \n",
    "        transforms.RandomHorizontalFlip(), \n",
    "        transforms.RandomRotation(30), \n",
    "        transforms.ToTensor(),\n",
    "        transforms.Normalize(torch.Tensor(mean), torch.Tensor(std))\n",
    "    ])\n",
    "\n",
    "    train_transform = transforms.Compose([\n",
    "        transforms.Resize((224, 224)),\n",
    "        transforms.ToTensor(),\n",
    "        transforms.Normalize(torch.Tensor(mean), torch.Tensor(std))\n",
    "        ])\n",
    "    \n",
    "    test_transform = transforms.Compose([\n",
    "        transforms.Resize((224, 224)),\n",
    "        transforms.ToTensor(),\n",
    "        transforms.Normalize(torch.Tensor(mean), torch.Tensor(std))\n",
    "    ])\n",
    "\n",
    "\n",
    "    # Data augmentation (if data_augmentation = True) \n",
    "\n",
    "    train_dataset = datasets.ImageFolder(root = dataset_path + \"train\", transform=train_transform)\n",
    "    test_dataset = datasets.ImageFolder(root = dataset_path + \"val\", transform=test_transform)\n",
    "    \n",
    "    \n",
    "    # Split train dataset into train and validation sets\n",
    "\n",
    "    train_data_class = dict()\n",
    "    for c in range(num_classes):\n",
    "        train_data_class[c] = [i for i, label in enumerate(train_dataset.targets) if label == c]\n",
    "\n",
    "    val_data_indices = []\n",
    "    val_ratio = 0.2  # 20% for validation\n",
    "    for class_indices in train_data_class.values():\n",
    "        num_val = int(len(class_indices) * val_ratio)\n",
    "        val_data_indices.extend(random.sample(class_indices, num_val))\n",
    "\n",
    "\n",
    "    # Create training and validation datasets\n",
    "\n",
    "    train_data = torch.utils.data.Subset(train_dataset, [i for i in range(len(train_dataset)) if i not in val_data_indices])\n",
    "    val_data = torch.utils.data.Subset(train_dataset, val_data_indices)\n",
    "\n",
    "\n",
    "    # Create data loaders\n",
    "\n",
    "    train_loader = DataLoader(train_data, batch_size=batch_size, shuffle=True)\n",
    "    val_loader = DataLoader(val_data, batch_size=batch_size, shuffle=False)\n",
    "    test_loader = DataLoader(test_dataset, batch_size=batch_size, shuffle=False)\n",
    "\n",
    "    if data_augmentation:\n",
    "      augmented_dataset = datasets.ImageFolder(root = dataset_path + \"train\", transform=augment_transform)\n",
    "      augmented_loader = DataLoader(augmented_dataset, batch_size=batch_size, shuffle=True)\n",
    "      train_loader = torch.utils.data.ConcatDataset([train_loader.dataset, augmented_loader.dataset])\n",
    "      train_loader = DataLoader(train_loader, batch_size=batch_size, shuffle=True)\n",
    "\n",
    "\n",
    "    # Get class names\n",
    "    classpath = pathlib.Path(dataset_path + \"train\")\n",
    "    class_names = sorted([j.name.split('/')[-1] for j in classpath.iterdir() if j.name != \".DS_Store\"])\n",
    "\n",
    "    return train_loader, val_loader, test_loader, class_names"
   ]
  },
  {
   "cell_type": "markdown",
   "id": "79303bbc-638c-47ca-9403-20eedd58a486",
   "metadata": {},
   "source": [
    "## Evaluation"
   ]
  },
  {
   "cell_type": "markdown",
   "id": "478ca3c1-d88a-4a94-8940-8898636d9b53",
   "metadata": {},
   "source": [
    "- trainCNN evaluates training, validation and testing accuracies and losses on model (GoogLeNet)"
   ]
  },
  {
   "cell_type": "code",
   "execution_count": 16,
   "id": "083a0c93-7e72-4be4-92b9-bc48b89ec219",
   "metadata": {},
   "outputs": [],
   "source": [
    "def trainCNN(device, train_loader, val_loader, test_loader, model, num_epochs=10, optimizer=\"Adam\"):    \n",
    "    criterion = nn.CrossEntropyLoss()\n",
    "    if optimizer == \"Adam\":\n",
    "        opt_func = optim.Adam(model.parameters(), lr=0.001)\n",
    "\n",
    "    total_correct = 0\n",
    "    total_samples = 0\n",
    "\n",
    "    for epoch in tqdm(range(num_epochs)):\n",
    "        model.train()  # Set the model to training mode\n",
    "        running_loss = 0.0\n",
    "        total_correct = 0\n",
    "        total_samples = 0\n",
    "        for inputs, labels in tqdm(train_loader):\n",
    "            inputs, labels = inputs.to(device), labels.to(device)\n",
    "            opt_func.zero_grad()  # Zero the gradients\n",
    "            outputs = model(inputs)  # Forward pass\n",
    "            loss = criterion(outputs, labels)  # Compute the loss\n",
    "            loss.backward()  # Backward pass\n",
    "            opt_func.step()  # Update the parameters\n",
    "\n",
    "            _, predicted = torch.max(outputs, 1)\n",
    "            total_correct += (predicted == labels).sum().item()\n",
    "            total_samples += labels.size(0)\n",
    "\n",
    "            running_loss += loss.item() * inputs.size(0)\n",
    "        loss = running_loss / len(train_loader.dataset)\n",
    "        accuracy = total_correct / total_samples\n",
    "        print(f\"Epoch [{epoch+1}/{num_epochs}], Accuracy: {accuracy * 100:.2f}%, Loss: {loss:.4f}\")\n",
    "        wandb.log({'accuracy': accuracy, 'loss': loss})\n",
    "\n",
    "\n",
    "        # Validation\n",
    "        model.eval()\n",
    "        with torch.no_grad():\n",
    "            val_total_correct = 0\n",
    "            val_total_samples = 0\n",
    "            val_running_loss = 0.0\n",
    "            for val_inputs, val_labels in tqdm(val_loader):\n",
    "                val_inputs, val_labels = val_inputs.to(device), val_labels.to(device)\n",
    "                val_outputs = model(val_inputs)\n",
    "                val_loss = criterion(val_outputs, val_labels)\n",
    "\n",
    "                _, val_predicted = torch.max(val_outputs, 1)\n",
    "                val_total_correct += (val_predicted == val_labels).sum().item()\n",
    "                val_total_samples += val_labels.size(0)\n",
    "\n",
    "                val_running_loss += val_loss.item() * val_inputs.size(0)\n",
    "\n",
    "            val_loss = val_running_loss / len(val_loader.dataset)\n",
    "            val_accuracy = val_total_correct / val_total_samples\n",
    "            print(f\"Epoch [{epoch+1}/{num_epochs}], Validation Accuracy: {val_accuracy * 100:.2f}%, Validation Loss: {val_loss:.4f}\")\n",
    "            wandb.log({'val_accuracy': val_accuracy, 'val_loss': val_loss})\n",
    "\n",
    "        # Test accuracy evaluation\n",
    "        if epoch==num_epochs-1:\n",
    "            model.eval()\n",
    "            with torch.no_grad():\n",
    "                test_total_correct = 0\n",
    "                test_total_samples = 0\n",
    "                test_running_loss = 0.0\n",
    "                for test_inputs, test_labels in tqdm(test_loader):\n",
    "                    test_inputs, test_labels = test_inputs.to(device), test_labels.to(device)\n",
    "                    test_outputs = model(test_inputs)\n",
    "                    test_loss = criterion(test_outputs, test_labels)\n",
    "    \n",
    "                    _, test_predicted = torch.max(test_outputs, 1)\n",
    "                    test_total_correct += (test_predicted == test_labels).sum().item()\n",
    "                    test_total_samples += test_labels.size(0)\n",
    "    \n",
    "                    test_running_loss += test_loss.item() * test_inputs.size(0)\n",
    "    \n",
    "                test_loss = test_running_loss / len(test_loader.dataset)\n",
    "                test_accuracy = test_total_correct / test_total_samples\n",
    "                print(f\"Test Accuracy: {test_accuracy * 100:.2f}%, Test Loss: {test_loss:.4f}\")"
   ]
  },
  {
   "cell_type": "markdown",
   "id": "25884ae0-bbfc-426f-bdfc-e973cd4437dc",
   "metadata": {},
   "source": [
    "## Fine Tuning of the model"
   ]
  },
  {
   "cell_type": "markdown",
   "id": "2ab8159d-6e34-49f4-8ce9-34dcf22dd72c",
   "metadata": {},
   "source": [
    "#### Three types of fine-tuning used:\n",
    "Freezing - Basically fixing the parameters (weights and biases) of certain layers, preventing them from being updated. \n",
    "1. **Feature Extraction:** It freezes all the layers and then we are applying a fully connected layer which takes the input from the last layer and gives one the 10 outputs of class.\n",
    "2. **Freeze K layers:** In this, we freeze first K layers, while keeping other layers unfreeze. That way we can keep updating the parameters after k layers.\n",
    "3. **Full fine-tuning:** Not fixing the parameters of any layer, therefore the parameters will be updated in every layer."
   ]
  },
  {
   "cell_type": "code",
   "execution_count": 17,
   "id": "867304ae-4d98-47b1-8e14-e015328e0fb0",
   "metadata": {},
   "outputs": [],
   "source": [
    "def feature_extraction(model, device):\n",
    "    for params in model.parameters():\n",
    "        params.requires_grad = False\n",
    "\n",
    "def freeze_till_k(model, device, k):\n",
    "    for params in model.parameters():\n",
    "        for idx, child in enumerate(model.children()):\n",
    "            # Freeze layers up to the k-th layer\n",
    "            if idx < k:\n",
    "                for param in child.parameters():\n",
    "                    param.requires_grad = False\n",
    "            else:\n",
    "                # Stop iterating after k-th layer\n",
    "                break\n",
    "\n",
    "def no_freezing(model, device):\n",
    "    for params in model.parameters():\n",
    "        params.requires_grad = True"
   ]
  },
  {
   "cell_type": "code",
   "execution_count": 18,
   "id": "d4a51046-640d-492e-9f24-6fdcc637cc20",
   "metadata": {},
   "outputs": [
    {
     "data": {
      "text/html": [
       "Tracking run with wandb version 0.16.6"
      ],
      "text/plain": [
       "<IPython.core.display.HTML object>"
      ]
     },
     "metadata": {},
     "output_type": "display_data"
    },
    {
     "data": {
      "text/html": [
       "Run data is saved locally in <code>/Users/gaurav/Developer/Projects/CS6910_2/Part_B/wandb/run-20240407_015249-x0pyuf4w</code>"
      ],
      "text/plain": [
       "<IPython.core.display.HTML object>"
      ]
     },
     "metadata": {},
     "output_type": "display_data"
    },
    {
     "data": {
      "text/html": [
       "Syncing run <strong><a href='https://wandb.ai/cs23m024-gaurav/CS6910_Assignment_2_Part_B/runs/x0pyuf4w' target=\"_blank\">xindi-unimatrix-21</a></strong> to <a href='https://wandb.ai/cs23m024-gaurav/CS6910_Assignment_2_Part_B' target=\"_blank\">Weights & Biases</a> (<a href='https://wandb.me/run' target=\"_blank\">docs</a>)<br/>"
      ],
      "text/plain": [
       "<IPython.core.display.HTML object>"
      ]
     },
     "metadata": {},
     "output_type": "display_data"
    },
    {
     "data": {
      "text/html": [
       " View project at <a href='https://wandb.ai/cs23m024-gaurav/CS6910_Assignment_2_Part_B' target=\"_blank\">https://wandb.ai/cs23m024-gaurav/CS6910_Assignment_2_Part_B</a>"
      ],
      "text/plain": [
       "<IPython.core.display.HTML object>"
      ]
     },
     "metadata": {},
     "output_type": "display_data"
    },
    {
     "data": {
      "text/html": [
       " View run at <a href='https://wandb.ai/cs23m024-gaurav/CS6910_Assignment_2_Part_B/runs/x0pyuf4w' target=\"_blank\">https://wandb.ai/cs23m024-gaurav/CS6910_Assignment_2_Part_B/runs/x0pyuf4w</a>"
      ],
      "text/plain": [
       "<IPython.core.display.HTML object>"
      ]
     },
     "metadata": {},
     "output_type": "display_data"
    },
    {
     "name": "stdout",
     "output_type": "stream",
     "text": [
      "Train:  563\n",
      "Val:  63\n",
      "Test:  63\n",
      "Device:  mps\n"
     ]
    },
    {
     "name": "stderr",
     "output_type": "stream",
     "text": [
      "/Users/gaurav/miniforge3/envs/CS6910_Assignment/lib/python3.12/site-packages/torchvision/models/_utils.py:208: UserWarning: The parameter 'pretrained' is deprecated since 0.13 and may be removed in the future, please use 'weights' instead.\n",
      "  warnings.warn(\n",
      "/Users/gaurav/miniforge3/envs/CS6910_Assignment/lib/python3.12/site-packages/torchvision/models/_utils.py:223: UserWarning: Arguments other than a weight enum or `None` for 'weights' are deprecated since 0.13 and may be removed in the future. The current behavior is equivalent to passing `weights=GoogLeNet_Weights.IMAGENET1K_V1`. You can also use `weights=GoogLeNet_Weights.DEFAULT` to get the most up-to-date weights.\n",
      "  warnings.warn(msg)\n"
     ]
    },
    {
     "data": {
      "application/vnd.jupyter.widget-view+json": {
       "model_id": "8cbf2031d8894f8c9c51f71846e8ee72",
       "version_major": 2,
       "version_minor": 0
      },
      "text/plain": [
       "  0%|          | 0/10 [00:00<?, ?it/s]"
      ]
     },
     "metadata": {},
     "output_type": "display_data"
    },
    {
     "data": {
      "application/vnd.jupyter.widget-view+json": {
       "model_id": "8be6a727ffb447a78f558a231ca65071",
       "version_major": 2,
       "version_minor": 0
      },
      "text/plain": [
       "  0%|          | 0/563 [00:00<?, ?it/s]"
      ]
     },
     "metadata": {},
     "output_type": "display_data"
    },
    {
     "name": "stdout",
     "output_type": "stream",
     "text": [
      "Epoch [1/10], Accuracy: 63.06%, Loss: 1.0889\n"
     ]
    },
    {
     "data": {
      "application/vnd.jupyter.widget-view+json": {
       "model_id": "6e56b380f93a4a2c8640f6318fb3779a",
       "version_major": 2,
       "version_minor": 0
      },
      "text/plain": [
       "  0%|          | 0/63 [00:00<?, ?it/s]"
      ]
     },
     "metadata": {},
     "output_type": "display_data"
    },
    {
     "name": "stdout",
     "output_type": "stream",
     "text": [
      "Epoch [1/10], Validation Accuracy: 73.44%, Validation Loss: 0.7959\n"
     ]
    },
    {
     "data": {
      "application/vnd.jupyter.widget-view+json": {
       "model_id": "cb2d1a0d058a42fca96bff77debb23b3",
       "version_major": 2,
       "version_minor": 0
      },
      "text/plain": [
       "  0%|          | 0/563 [00:00<?, ?it/s]"
      ]
     },
     "metadata": {},
     "output_type": "display_data"
    },
    {
     "name": "stdout",
     "output_type": "stream",
     "text": [
      "Epoch [2/10], Accuracy: 74.55%, Loss: 0.7585\n"
     ]
    },
    {
     "data": {
      "application/vnd.jupyter.widget-view+json": {
       "model_id": "5383a00c09b8427db8142ff2b2823a8f",
       "version_major": 2,
       "version_minor": 0
      },
      "text/plain": [
       "  0%|          | 0/63 [00:00<?, ?it/s]"
      ]
     },
     "metadata": {},
     "output_type": "display_data"
    },
    {
     "name": "stdout",
     "output_type": "stream",
     "text": [
      "Epoch [2/10], Validation Accuracy: 77.94%, Validation Loss: 0.6485\n"
     ]
    },
    {
     "data": {
      "application/vnd.jupyter.widget-view+json": {
       "model_id": "611a9e94d9d7469f835bcbd0b77b5735",
       "version_major": 2,
       "version_minor": 0
      },
      "text/plain": [
       "  0%|          | 0/563 [00:00<?, ?it/s]"
      ]
     },
     "metadata": {},
     "output_type": "display_data"
    },
    {
     "name": "stdout",
     "output_type": "stream",
     "text": [
      "Epoch [3/10], Accuracy: 80.06%, Loss: 0.5994\n"
     ]
    },
    {
     "data": {
      "application/vnd.jupyter.widget-view+json": {
       "model_id": "828ff1bc83674762bd9b72e0cfb2cfef",
       "version_major": 2,
       "version_minor": 0
      },
      "text/plain": [
       "  0%|          | 0/63 [00:00<?, ?it/s]"
      ]
     },
     "metadata": {},
     "output_type": "display_data"
    },
    {
     "name": "stdout",
     "output_type": "stream",
     "text": [
      "Epoch [3/10], Validation Accuracy: 82.39%, Validation Loss: 0.5314\n"
     ]
    },
    {
     "data": {
      "application/vnd.jupyter.widget-view+json": {
       "model_id": "f5e7fb88c1d743ea8217dd4809db795b",
       "version_major": 2,
       "version_minor": 0
      },
      "text/plain": [
       "  0%|          | 0/563 [00:00<?, ?it/s]"
      ]
     },
     "metadata": {},
     "output_type": "display_data"
    },
    {
     "name": "stdout",
     "output_type": "stream",
     "text": [
      "Epoch [4/10], Accuracy: 83.93%, Loss: 0.4777\n"
     ]
    },
    {
     "data": {
      "application/vnd.jupyter.widget-view+json": {
       "model_id": "f4bfefda407a48678c4562a0d109b294",
       "version_major": 2,
       "version_minor": 0
      },
      "text/plain": [
       "  0%|          | 0/63 [00:00<?, ?it/s]"
      ]
     },
     "metadata": {},
     "output_type": "display_data"
    },
    {
     "name": "stdout",
     "output_type": "stream",
     "text": [
      "Epoch [4/10], Validation Accuracy: 85.04%, Validation Loss: 0.4638\n"
     ]
    },
    {
     "data": {
      "application/vnd.jupyter.widget-view+json": {
       "model_id": "dc87dc0f2b8e4ad1940270814dc9341d",
       "version_major": 2,
       "version_minor": 0
      },
      "text/plain": [
       "  0%|          | 0/563 [00:00<?, ?it/s]"
      ]
     },
     "metadata": {},
     "output_type": "display_data"
    },
    {
     "name": "stdout",
     "output_type": "stream",
     "text": [
      "Epoch [5/10], Accuracy: 86.71%, Loss: 0.3997\n"
     ]
    },
    {
     "data": {
      "application/vnd.jupyter.widget-view+json": {
       "model_id": "a477b06fdc5548918486a89bc3e9dc8a",
       "version_major": 2,
       "version_minor": 0
      },
      "text/plain": [
       "  0%|          | 0/63 [00:00<?, ?it/s]"
      ]
     },
     "metadata": {},
     "output_type": "display_data"
    },
    {
     "name": "stdout",
     "output_type": "stream",
     "text": [
      "Epoch [5/10], Validation Accuracy: 85.84%, Validation Loss: 0.4361\n"
     ]
    },
    {
     "data": {
      "application/vnd.jupyter.widget-view+json": {
       "model_id": "39b837dbcb5c4a988319a0d10fc74296",
       "version_major": 2,
       "version_minor": 0
      },
      "text/plain": [
       "  0%|          | 0/563 [00:00<?, ?it/s]"
      ]
     },
     "metadata": {},
     "output_type": "display_data"
    },
    {
     "name": "stderr",
     "output_type": "stream",
     "text": [
      "Traceback (most recent call last):\n",
      "  File \"/var/folders/3m/7slbgqtx4rlff38t_2cx53700000gp/T/ipykernel_51426/4226319062.py\", line 43, in train\n",
      "    trainCNN(device, train_loader, val_loader, test_loader, model, num_epochs=10, optimizer=\"Adam\")\n",
      "  File \"/var/folders/3m/7slbgqtx4rlff38t_2cx53700000gp/T/ipykernel_51426/964984367.py\", line 23, in trainCNN\n",
      "    total_correct += (predicted == labels).sum().item()\n",
      "                     ^^^^^^^^^^^^^^^^^^^^^^^^^^^^^^^^^^\n",
      "KeyboardInterrupt\n"
     ]
    },
    {
     "data": {
      "application/vnd.jupyter.widget-view+json": {
       "model_id": "",
       "version_major": 2,
       "version_minor": 0
      },
      "text/plain": [
       "VBox(children=(Label(value='0.001 MB of 0.001 MB uploaded\\r'), FloatProgress(value=1.0, max=1.0)))"
      ]
     },
     "metadata": {},
     "output_type": "display_data"
    },
    {
     "data": {
      "text/html": [
       "<style>\n",
       "    table.wandb td:nth-child(1) { padding: 0 10px; text-align: left ; width: auto;} td:nth-child(2) {text-align: left ; width: 100%}\n",
       "    .wandb-row { display: flex; flex-direction: row; flex-wrap: wrap; justify-content: flex-start; width: 100% }\n",
       "    .wandb-col { display: flex; flex-direction: column; flex-basis: 100%; flex: 1; padding: 10px; }\n",
       "    </style>\n",
       "<div class=\"wandb-row\"><div class=\"wandb-col\"><h3>Run history:</h3><br/><table class=\"wandb\"><tr><td>accuracy</td><td>▁▄▆▇█</td></tr><tr><td>loss</td><td>█▅▃▂▁</td></tr><tr><td>val_accuracy</td><td>▁▄▆██</td></tr><tr><td>val_loss</td><td>█▅▃▂▁</td></tr></table><br/></div><div class=\"wandb-col\"><h3>Run summary:</h3><br/><table class=\"wandb\"><tr><td>accuracy</td><td>0.8671</td></tr><tr><td>loss</td><td>0.39967</td></tr><tr><td>val_accuracy</td><td>0.85843</td></tr><tr><td>val_loss</td><td>0.43613</td></tr></table><br/></div></div>"
      ],
      "text/plain": [
       "<IPython.core.display.HTML object>"
      ]
     },
     "metadata": {},
     "output_type": "display_data"
    },
    {
     "data": {
      "text/html": [
       " View run <strong style=\"color:#cdcd00\">xindi-unimatrix-21</strong> at: <a href='https://wandb.ai/cs23m024-gaurav/CS6910_Assignment_2_Part_B/runs/x0pyuf4w' target=\"_blank\">https://wandb.ai/cs23m024-gaurav/CS6910_Assignment_2_Part_B/runs/x0pyuf4w</a><br/> View project at: <a href='https://wandb.ai/cs23m024-gaurav/CS6910_Assignment_2_Part_B' target=\"_blank\">https://wandb.ai/cs23m024-gaurav/CS6910_Assignment_2_Part_B</a><br/>Synced 6 W&B file(s), 0 media file(s), 0 artifact file(s) and 0 other file(s)"
      ],
      "text/plain": [
       "<IPython.core.display.HTML object>"
      ]
     },
     "metadata": {},
     "output_type": "display_data"
    },
    {
     "data": {
      "text/html": [
       "Find logs at: <code>./wandb/run-20240407_015249-x0pyuf4w/logs</code>"
      ],
      "text/plain": [
       "<IPython.core.display.HTML object>"
      ]
     },
     "metadata": {},
     "output_type": "display_data"
    },
    {
     "ename": "KeyboardInterrupt",
     "evalue": "",
     "output_type": "error",
     "traceback": [
      "\u001b[0;31m---------------------------------------------------------------------------\u001b[0m",
      "\u001b[0;31mKeyboardInterrupt\u001b[0m                         Traceback (most recent call last)",
      "Cell \u001b[0;32mIn[18], line 53\u001b[0m\n\u001b[1;32m     50\u001b[0m     train()\n\u001b[1;32m     51\u001b[0m     wandb\u001b[38;5;241m.\u001b[39mfinish()\n\u001b[0;32m---> 53\u001b[0m \u001b[43mmain\u001b[49m\u001b[43m(\u001b[49m\u001b[43m)\u001b[49m\n",
      "Cell \u001b[0;32mIn[18], line 50\u001b[0m, in \u001b[0;36mmain\u001b[0;34m()\u001b[0m\n\u001b[1;32m     48\u001b[0m             model\u001b[38;5;241m.\u001b[39mto(device)\n\u001b[1;32m     49\u001b[0m             trainCNN(device, train_loader, val_loader, test_loader, model, num_epochs\u001b[38;5;241m=\u001b[39m\u001b[38;5;241m10\u001b[39m, optimizer\u001b[38;5;241m=\u001b[39m\u001b[38;5;124m\"\u001b[39m\u001b[38;5;124mAdam\u001b[39m\u001b[38;5;124m\"\u001b[39m)\n\u001b[0;32m---> 50\u001b[0m \u001b[43mtrain\u001b[49m\u001b[43m(\u001b[49m\u001b[43m)\u001b[49m\n\u001b[1;32m     51\u001b[0m wandb\u001b[38;5;241m.\u001b[39mfinish()\n",
      "Cell \u001b[0;32mIn[18], line 43\u001b[0m, in \u001b[0;36mmain.<locals>.train\u001b[0;34m()\u001b[0m\n\u001b[1;32m     41\u001b[0m     model\u001b[38;5;241m.\u001b[39mfc \u001b[38;5;241m=\u001b[39m nn\u001b[38;5;241m.\u001b[39mLinear(model\u001b[38;5;241m.\u001b[39mfc\u001b[38;5;241m.\u001b[39min_features, num_classes)\n\u001b[1;32m     42\u001b[0m     model\u001b[38;5;241m.\u001b[39mto(device)\n\u001b[0;32m---> 43\u001b[0m     \u001b[43mtrainCNN\u001b[49m\u001b[43m(\u001b[49m\u001b[43mdevice\u001b[49m\u001b[43m,\u001b[49m\u001b[43m \u001b[49m\u001b[43mtrain_loader\u001b[49m\u001b[43m,\u001b[49m\u001b[43m \u001b[49m\u001b[43mval_loader\u001b[49m\u001b[43m,\u001b[49m\u001b[43m \u001b[49m\u001b[43mtest_loader\u001b[49m\u001b[43m,\u001b[49m\u001b[43m \u001b[49m\u001b[43mmodel\u001b[49m\u001b[43m,\u001b[49m\u001b[43m \u001b[49m\u001b[43mnum_epochs\u001b[49m\u001b[38;5;241;43m=\u001b[39;49m\u001b[38;5;241;43m10\u001b[39;49m\u001b[43m,\u001b[49m\u001b[43m \u001b[49m\u001b[43moptimizer\u001b[49m\u001b[38;5;241;43m=\u001b[39;49m\u001b[38;5;124;43m\"\u001b[39;49m\u001b[38;5;124;43mAdam\u001b[39;49m\u001b[38;5;124;43m\"\u001b[39;49m\u001b[43m)\u001b[49m\n\u001b[1;32m     45\u001b[0m \u001b[38;5;28;01melse\u001b[39;00m:\n\u001b[1;32m     46\u001b[0m     feature_extraction(model, device)\n",
      "Cell \u001b[0;32mIn[16], line 23\u001b[0m, in \u001b[0;36mtrainCNN\u001b[0;34m(device, train_loader, val_loader, test_loader, model, num_epochs, optimizer)\u001b[0m\n\u001b[1;32m     20\u001b[0m opt_func\u001b[38;5;241m.\u001b[39mstep()  \u001b[38;5;66;03m# Update the parameters\u001b[39;00m\n\u001b[1;32m     22\u001b[0m _, predicted \u001b[38;5;241m=\u001b[39m torch\u001b[38;5;241m.\u001b[39mmax(outputs, \u001b[38;5;241m1\u001b[39m)\n\u001b[0;32m---> 23\u001b[0m total_correct \u001b[38;5;241m+\u001b[39m\u001b[38;5;241m=\u001b[39m \u001b[43m(\u001b[49m\u001b[43mpredicted\u001b[49m\u001b[43m \u001b[49m\u001b[38;5;241;43m==\u001b[39;49m\u001b[43m \u001b[49m\u001b[43mlabels\u001b[49m\u001b[43m)\u001b[49m\u001b[38;5;241;43m.\u001b[39;49m\u001b[43msum\u001b[49m\u001b[43m(\u001b[49m\u001b[43m)\u001b[49m\u001b[38;5;241;43m.\u001b[39;49m\u001b[43mitem\u001b[49m\u001b[43m(\u001b[49m\u001b[43m)\u001b[49m\n\u001b[1;32m     24\u001b[0m total_samples \u001b[38;5;241m+\u001b[39m\u001b[38;5;241m=\u001b[39m labels\u001b[38;5;241m.\u001b[39msize(\u001b[38;5;241m0\u001b[39m)\n\u001b[1;32m     26\u001b[0m running_loss \u001b[38;5;241m+\u001b[39m\u001b[38;5;241m=\u001b[39m loss\u001b[38;5;241m.\u001b[39mitem() \u001b[38;5;241m*\u001b[39m inputs\u001b[38;5;241m.\u001b[39msize(\u001b[38;5;241m0\u001b[39m)\n",
      "\u001b[0;31mKeyboardInterrupt\u001b[0m: "
     ]
    }
   ],
   "source": [
    "def main():\n",
    "    dataset_path = '../inaturalist_12K/'  \n",
    "\n",
    "    data_augmentation = True\n",
    "    batch_size = 32\n",
    "    num_classes = 10\n",
    "    fine_tuning_method = 2\n",
    "    k = 10\n",
    "\n",
    "    def train():\n",
    "        with wandb.init(project=\"CS6910_Assignment_2_Part_B\") as run:\n",
    "            config = wandb.config\n",
    "            run_name = \"aug_\" + str(data_augmentation) + \"_bs_\" + str(batch_size) + \"_fine_tune_\" + str(fine_tuning_method) + \"_num_freeze_layer_all\"\n",
    "            if fine_tuning_method != 1:\n",
    "                run_name = \"aug_\" + str(data_augmentation) + \"_bs_\" + str(batch_size) + \"_fine_tune_\" + str(fine_tuning_method) + \"_num_freeze_layer_\" + str(k)\n",
    "            elif fine_tuning_method == 3:\n",
    "                run_name = \"aug_\" + str(data_augmentation) + \"_bs_\" + str(batch_size) + \"_fine_tune_\" + str(fine_tuning_method) + \"_num_freeze_layer_none\"\n",
    "\n",
    "            wandb.run.name = run_name\n",
    "            train_loader, val_loader, test_loader, class_names = data_generation(dataset_path, \n",
    "                                                                                     num_classes=10, \n",
    "                                                                                     data_augmentation=data_augmentation, \n",
    "                                                                                     batch_size=batch_size)\n",
    "            print(\"Train: \", len(train_loader))\n",
    "            print(\"Val: \", len(val_loader))\n",
    "            print(\"Test: \", len(test_loader))\n",
    "    \n",
    "            device = torch.device(\"mps\" if torch.backends.mps.is_available() else \"cpu\")\n",
    "            print(\"Device: \", device)\n",
    "        \n",
    "            model = models.googlenet(pretrained=True)\n",
    "\n",
    "            if fine_tuning_method == 1:\n",
    "                feature_extraction(model, device)\n",
    "                model.fc = nn.Linear(model.fc.in_features, num_classes)\n",
    "                model.to(device)\n",
    "                trainCNN(device, train_loader, val_loader, test_loader, model, num_epochs=10, optimizer=\"Adam\")\n",
    "            \n",
    "            elif fine_tuning_method == 2:\n",
    "                freeze_till_k(model, device, k)\n",
    "                model.fc = nn.Linear(model.fc.in_features, num_classes)\n",
    "                model.to(device)\n",
    "                trainCNN(device, train_loader, val_loader, test_loader, model, num_epochs=10, optimizer=\"Adam\")\n",
    "\n",
    "            else:\n",
    "                feature_extraction(model, device)\n",
    "                model.fc = nn.Linear(model.fc.in_features, num_classes)\n",
    "                model.to(device)\n",
    "                trainCNN(device, train_loader, val_loader, test_loader, model, num_epochs=10, optimizer=\"Adam\")\n",
    "    train()\n",
    "    wandb.finish()\n",
    "    \n",
    "main()"
   ]
  }
 ],
 "metadata": {
  "kernelspec": {
   "display_name": "Python 3 (ipykernel)",
   "language": "python",
   "name": "python3"
  },
  "language_info": {
   "codemirror_mode": {
    "name": "ipython",
    "version": 3
   },
   "file_extension": ".py",
   "mimetype": "text/x-python",
   "name": "python",
   "nbconvert_exporter": "python",
   "pygments_lexer": "ipython3",
   "version": "3.12.2"
  }
 },
 "nbformat": 4,
 "nbformat_minor": 5
}
