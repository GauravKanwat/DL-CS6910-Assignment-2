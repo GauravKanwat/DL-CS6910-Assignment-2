{
 "cells": [
  {
   "cell_type": "markdown",
   "id": "8065cfbf-42b5-4dd4-83b9-005c14682cf5",
   "metadata": {},
   "source": [
    "# Part B - Fine-tuning a Pretrained model (GoogLeNet)"
   ]
  },
  {
   "cell_type": "markdown",
   "id": "12129816-6457-463c-8019-12812469d051",
   "metadata": {},
   "source": [
    "### Importing required libraries"
   ]
  },
  {
   "cell_type": "code",
   "execution_count": 25,
   "id": "5975379f-8351-450c-9898-56bd5165fbb0",
   "metadata": {},
   "outputs": [],
   "source": [
    "from tqdm.auto import tqdm\n",
    "import random\n",
    "import torch\n",
    "import torch.nn as nn\n",
    "import torch.optim as optim\n",
    "import torch.utils.data as data_utils\n",
    "from torchvision import models, datasets, transforms\n",
    "from torch.utils.data import DataLoader\n",
    "import matplotlib.pyplot as plt\n",
    "import numpy as np\n",
    "import pathlib\n",
    "import wandb"
   ]
  },
  {
   "cell_type": "markdown",
   "id": "c0f2120a-6e5a-4bd1-9c4b-f38232639c4f",
   "metadata": {},
   "source": [
    "### Logging in Wandb"
   ]
  },
  {
   "cell_type": "code",
   "execution_count": 26,
   "id": "8e66e8a1-51d5-41fc-8932-272d756e4e2d",
   "metadata": {},
   "outputs": [
    {
     "data": {
      "text/plain": [
       "True"
      ]
     },
     "execution_count": 26,
     "metadata": {},
     "output_type": "execute_result"
    }
   ],
   "source": [
    "wandb.login()"
   ]
  },
  {
   "cell_type": "markdown",
   "id": "7c0ce287-4827-4379-ba8d-dca2379101ad",
   "metadata": {},
   "source": [
    "## Data generation"
   ]
  },
  {
   "cell_type": "markdown",
   "id": "8bdd7a44-7394-4e75-a73c-d35b287d2bcf",
   "metadata": {},
   "source": [
    "#### Data generation and transformation for better training input for the model\n",
    "- From the dataset path provided in main, we are generating the dataset and performing transformation to get better training data for the model\n",
    "- Applying the normalization using mean and standard deviation (calculated using \"get_mean_and_std\" on training dataset)\n",
    "- Splitting 20% of the training dataset such that 80% is in training dataset and 20% is in testing dataset\n",
    "- Validation dataset is generated such that every class contains an equal amount of data (200 images in each class)"
   ]
  },
  {
   "cell_type": "code",
   "execution_count": 27,
   "id": "971db3d8-ef88-445c-8cba-b4f55d04998a",
   "metadata": {},
   "outputs": [],
   "source": [
    "def data_generation(dataset_path, num_classes=10, data_augmentation=False, batch_size=32):\n",
    "    \n",
    "    # Mean and standard deviation values calculated from function get_mean_and_std on training dataset\n",
    "\n",
    "    mean = [0.4708, 0.4596, 0.3891]\n",
    "    std = [0.1951, 0.1892, 0.1859]\n",
    "\n",
    "\n",
    "    # Define transformations for training and testing data\n",
    "    \n",
    "    augment_transform = transforms.Compose([\n",
    "        transforms.Resize((256, 256)), \n",
    "        transforms.RandomHorizontalFlip(), \n",
    "        transforms.RandomRotation(30), \n",
    "        transforms.ToTensor(),\n",
    "        transforms.Normalize(torch.Tensor(mean), torch.Tensor(std))\n",
    "    ])\n",
    "\n",
    "    train_transform = transforms.Compose([\n",
    "        transforms.Resize((256, 256)),\n",
    "        transforms.ToTensor(),\n",
    "        transforms.Normalize(torch.Tensor(mean), torch.Tensor(std))\n",
    "        ])\n",
    "    \n",
    "    test_transform = transforms.Compose([\n",
    "        transforms.Resize((256, 256)),\n",
    "        transforms.ToTensor(),\n",
    "        transforms.Normalize(torch.Tensor(mean), torch.Tensor(std))\n",
    "    ])\n",
    "\n",
    "\n",
    "    # Data augmentation (if data_augmentation = True) \n",
    "\n",
    "    train_dataset = datasets.ImageFolder(root = dataset_path + \"train\", transform=train_transform)\n",
    "    test_dataset = datasets.ImageFolder(root = dataset_path + \"val\", transform=test_transform)\n",
    "    \n",
    "    \n",
    "    # Split train dataset into train and validation sets\n",
    "\n",
    "    train_data_class = dict()\n",
    "    for c in range(num_classes):\n",
    "        train_data_class[c] = [i for i, label in enumerate(train_dataset.targets) if label == c]\n",
    "\n",
    "    val_data_indices = []\n",
    "    val_ratio = 0.2  # 20% for validation\n",
    "    for class_indices in train_data_class.values():\n",
    "        num_val = int(len(class_indices) * val_ratio)\n",
    "        val_data_indices.extend(random.sample(class_indices, num_val))\n",
    "\n",
    "\n",
    "    # Create training and validation datasets\n",
    "\n",
    "    train_data = torch.utils.data.Subset(train_dataset, [i for i in range(len(train_dataset)) if i not in val_data_indices])\n",
    "    val_data = torch.utils.data.Subset(train_dataset, val_data_indices)\n",
    "\n",
    "\n",
    "    # Create data loaders\n",
    "\n",
    "    train_loader = DataLoader(train_data, batch_size=batch_size, shuffle=True)\n",
    "    val_loader = DataLoader(val_data, batch_size=batch_size, shuffle=False)\n",
    "    test_loader = DataLoader(test_dataset, batch_size=batch_size, shuffle=False)\n",
    "\n",
    "    if data_augmentation:\n",
    "      augmented_dataset = datasets.ImageFolder(root = dataset_path + \"train\", transform=augment_transform)\n",
    "      augmented_loader = DataLoader(augmented_dataset, batch_size=batch_size, shuffle=True)\n",
    "      train_loader = torch.utils.data.ConcatDataset([train_loader.dataset, augmented_loader.dataset])\n",
    "      train_loader = DataLoader(train_loader, batch_size=batch_size, shuffle=True)\n",
    "\n",
    "\n",
    "    # Get class names\n",
    "    classpath = pathlib.Path(dataset_path + \"train\")\n",
    "    class_names = sorted([j.name.split('/')[-1] for j in classpath.iterdir() if j.name != \".DS_Store\"])\n",
    "\n",
    "    return train_loader, val_loader, test_loader, class_names"
   ]
  },
  {
   "cell_type": "markdown",
   "id": "79303bbc-638c-47ca-9403-20eedd58a486",
   "metadata": {},
   "source": [
    "## Evaluation"
   ]
  },
  {
   "cell_type": "markdown",
   "id": "478ca3c1-d88a-4a94-8940-8898636d9b53",
   "metadata": {},
   "source": [
    "- trainCNN evaluates training, validation and testing accuracies and losses on model (GoogLeNet)"
   ]
  },
  {
   "cell_type": "code",
   "execution_count": 28,
   "id": "083a0c93-7e72-4be4-92b9-bc48b89ec219",
   "metadata": {},
   "outputs": [],
   "source": [
    "def trainCNN(device, train_loader, val_loader, test_loader, model, num_epochs=10, optimizer=\"Adam\"):    \n",
    "    criterion = nn.CrossEntropyLoss()\n",
    "    if optimizer == \"Adam\":\n",
    "        opt_func = optim.Adam(model.parameters(), lr=0.001)\n",
    "\n",
    "    total_correct = 0\n",
    "    total_samples = 0\n",
    "\n",
    "    for epoch in tqdm(range(num_epochs)):\n",
    "        model.train()  # Set the model to training mode\n",
    "        running_loss = 0.0\n",
    "        total_correct = 0\n",
    "        total_samples = 0\n",
    "        for inputs, labels in tqdm(train_loader):\n",
    "            inputs, labels = inputs.to(device), labels.to(device)\n",
    "            opt_func.zero_grad()  # Zero the gradients\n",
    "            outputs = model(inputs)  # Forward pass\n",
    "            loss = criterion(outputs, labels)  # Compute the loss\n",
    "            loss.backward()  # Backward pass\n",
    "            opt_func.step()  # Update the parameters\n",
    "\n",
    "            _, predicted = torch.max(outputs, 1)\n",
    "            total_correct += (predicted == labels).sum().item()\n",
    "            total_samples += labels.size(0)\n",
    "\n",
    "            running_loss += loss.item() * inputs.size(0)\n",
    "        loss = running_loss / len(train_loader.dataset)\n",
    "        accuracy = total_correct / total_samples\n",
    "        print(f\"Epoch [{epoch+1}/{num_epochs}], Accuracy: {accuracy * 100:.2f}%, Loss: {loss:.4f}\")\n",
    "        wandb.log({'accuracy': accuracy, 'loss': loss})\n",
    "\n",
    "\n",
    "        # Validation\n",
    "        model.eval()\n",
    "        with torch.no_grad():\n",
    "            val_total_correct = 0\n",
    "            val_total_samples = 0\n",
    "            val_running_loss = 0.0\n",
    "            for val_inputs, val_labels in tqdm(val_loader):\n",
    "                val_inputs, val_labels = val_inputs.to(device), val_labels.to(device)\n",
    "                val_outputs = model(val_inputs)\n",
    "                val_loss = criterion(val_outputs, val_labels)\n",
    "\n",
    "                _, val_predicted = torch.max(val_outputs, 1)\n",
    "                val_total_correct += (val_predicted == val_labels).sum().item()\n",
    "                val_total_samples += val_labels.size(0)\n",
    "\n",
    "                val_running_loss += val_loss.item() * val_inputs.size(0)\n",
    "\n",
    "            val_loss = val_running_loss / len(val_loader.dataset)\n",
    "            val_accuracy = val_total_correct / val_total_samples\n",
    "            print(f\"Epoch [{epoch+1}/{num_epochs}], Validation Accuracy: {val_accuracy * 100:.2f}%, Validation Loss: {val_loss:.4f}\")\n",
    "            wandb.log({'val_accuracy': val_accuracy, 'val_loss': val_loss})\n",
    "\n",
    "        # Test accuracy evaluation\n",
    "        if epoch==num_epochs-1:\n",
    "            model.eval()\n",
    "            with torch.no_grad():\n",
    "                test_total_correct = 0\n",
    "                test_total_samples = 0\n",
    "                test_running_loss = 0.0\n",
    "                for test_inputs, test_labels in tqdm(test_loader):\n",
    "                    test_inputs, test_labels = test_inputs.to(device), test_labels.to(device)\n",
    "                    test_outputs = model(test_inputs)\n",
    "                    test_loss = criterion(test_outputs, test_labels)\n",
    "    \n",
    "                    _, test_predicted = torch.max(test_outputs, 1)\n",
    "                    test_total_correct += (test_predicted == test_labels).sum().item()\n",
    "                    test_total_samples += test_labels.size(0)\n",
    "    \n",
    "                    test_running_loss += test_loss.item() * test_inputs.size(0)\n",
    "    \n",
    "                test_loss = test_running_loss / len(test_loader.dataset)\n",
    "                test_accuracy = test_total_correct / test_total_samples\n",
    "                print(f\"Test Accuracy: {test_accuracy * 100:.2f}%, Test Loss: {test_loss:.4f}\")"
   ]
  },
  {
   "cell_type": "markdown",
   "id": "25884ae0-bbfc-426f-bdfc-e973cd4437dc",
   "metadata": {},
   "source": [
    "## Fine Tuning of the model"
   ]
  },
  {
   "cell_type": "markdown",
   "id": "2ab8159d-6e34-49f4-8ce9-34dcf22dd72c",
   "metadata": {},
   "source": [
    "#### Three types of fine tuning used:\n",
    "Freezing - Basically fixing the parameters (weights and biases) of certain layers, preventing them from being updated. \n",
    "1. **Feature Extraction:** It freezes all the layers and then we are applying a fully connected layer which takes the input from the last layer and gives one the 10 outputs of class.\n",
    "2. **Freeze K layers:** In this, we freeze first K layers, while keeping other layers unfreeze. That way we can keep updating the parameters after k layers.\n",
    "3. **No freezing:** Not fixing the parameters of any layer, therefore the parameters will be updated in every layer."
   ]
  },
  {
   "cell_type": "code",
   "execution_count": 30,
   "id": "867304ae-4d98-47b1-8e14-e015328e0fb0",
   "metadata": {},
   "outputs": [],
   "source": [
    "def feature_extraction(model, device):\n",
    "    for params in model.parameters():\n",
    "        params.requires_grad = False\n",
    "\n",
    "def freeze_till_k(model, device, k):\n",
    "    for params in model.parameters():\n",
    "        for idx, child in enumerate(model.children()):\n",
    "            # Freeze layers up to the k-th layer\n",
    "            if idx < k:\n",
    "                for param in child.parameters():\n",
    "                    param.requires_grad = False\n",
    "            else:\n",
    "                # Stop iterating after k-th layer\n",
    "                break\n",
    "\n",
    "def no_freezing(model, device):\n",
    "    for params in model.parameters():\n",
    "        params.requires_grad = True"
   ]
  },
  {
   "cell_type": "code",
   "execution_count": 15,
   "id": "d4a51046-640d-492e-9f24-6fdcc637cc20",
   "metadata": {},
   "outputs": [
    {
     "data": {
      "text/html": [
       "wandb version 0.16.6 is available!  To upgrade, please run:\n",
       " $ pip install wandb --upgrade"
      ],
      "text/plain": [
       "<IPython.core.display.HTML object>"
      ]
     },
     "metadata": {},
     "output_type": "display_data"
    },
    {
     "data": {
      "text/html": [
       "Tracking run with wandb version 0.16.4"
      ],
      "text/plain": [
       "<IPython.core.display.HTML object>"
      ]
     },
     "metadata": {},
     "output_type": "display_data"
    },
    {
     "data": {
      "text/html": [
       "Run data is saved locally in <code>/Users/gaurav/Developer/Projects/CS6910_2/Part_B/wandb/run-20240405_215501-iwd1nwzx</code>"
      ],
      "text/plain": [
       "<IPython.core.display.HTML object>"
      ]
     },
     "metadata": {},
     "output_type": "display_data"
    },
    {
     "data": {
      "text/html": [
       "Syncing run <strong><a href='https://wandb.ai/cs23m024-gaurav/CS6910_Assignment_2_Part_B/runs/iwd1nwzx' target=\"_blank\">crusher-phaser-5</a></strong> to <a href='https://wandb.ai/cs23m024-gaurav/CS6910_Assignment_2_Part_B' target=\"_blank\">Weights & Biases</a> (<a href='https://wandb.me/run' target=\"_blank\">docs</a>)<br/>"
      ],
      "text/plain": [
       "<IPython.core.display.HTML object>"
      ]
     },
     "metadata": {},
     "output_type": "display_data"
    },
    {
     "data": {
      "text/html": [
       " View project at <a href='https://wandb.ai/cs23m024-gaurav/CS6910_Assignment_2_Part_B' target=\"_blank\">https://wandb.ai/cs23m024-gaurav/CS6910_Assignment_2_Part_B</a>"
      ],
      "text/plain": [
       "<IPython.core.display.HTML object>"
      ]
     },
     "metadata": {},
     "output_type": "display_data"
    },
    {
     "data": {
      "text/html": [
       " View run at <a href='https://wandb.ai/cs23m024-gaurav/CS6910_Assignment_2_Part_B/runs/iwd1nwzx' target=\"_blank\">https://wandb.ai/cs23m024-gaurav/CS6910_Assignment_2_Part_B/runs/iwd1nwzx</a>"
      ],
      "text/plain": [
       "<IPython.core.display.HTML object>"
      ]
     },
     "metadata": {},
     "output_type": "display_data"
    },
    {
     "name": "stdout",
     "output_type": "stream",
     "text": [
      "Train:  563\n",
      "Val:  63\n",
      "Test:  63\n",
      "Device:  mps\n"
     ]
    },
    {
     "name": "stderr",
     "output_type": "stream",
     "text": [
      "/Users/gaurav/miniforge3/envs/CS6910_Assignment/lib/python3.12/site-packages/torchvision/models/_utils.py:208: UserWarning: The parameter 'pretrained' is deprecated since 0.13 and may be removed in the future, please use 'weights' instead.\n",
      "  warnings.warn(\n",
      "/Users/gaurav/miniforge3/envs/CS6910_Assignment/lib/python3.12/site-packages/torchvision/models/_utils.py:223: UserWarning: Arguments other than a weight enum or `None` for 'weights' are deprecated since 0.13 and may be removed in the future. The current behavior is equivalent to passing `weights=GoogLeNet_Weights.IMAGENET1K_V1`. You can also use `weights=GoogLeNet_Weights.DEFAULT` to get the most up-to-date weights.\n",
      "  warnings.warn(msg)\n"
     ]
    },
    {
     "data": {
      "application/vnd.jupyter.widget-view+json": {
       "model_id": "f06beaed4f27499f99f1aec3f5676eb5",
       "version_major": 2,
       "version_minor": 0
      },
      "text/plain": [
       "  0%|          | 0/10 [00:00<?, ?it/s]"
      ]
     },
     "metadata": {},
     "output_type": "display_data"
    },
    {
     "data": {
      "application/vnd.jupyter.widget-view+json": {
       "model_id": "a51511d97e7d45a59f729130ee5a6868",
       "version_major": 2,
       "version_minor": 0
      },
      "text/plain": [
       "  0%|          | 0/563 [00:00<?, ?it/s]"
      ]
     },
     "metadata": {},
     "output_type": "display_data"
    },
    {
     "name": "stdout",
     "output_type": "stream",
     "text": [
      "Epoch [1/10], Accuracy: 60.01%, Loss: 1.2943\n"
     ]
    },
    {
     "data": {
      "application/vnd.jupyter.widget-view+json": {
       "model_id": "f3931e5a37cc473db6f09c01ee101b7d",
       "version_major": 2,
       "version_minor": 0
      },
      "text/plain": [
       "  0%|          | 0/63 [00:00<?, ?it/s]"
      ]
     },
     "metadata": {},
     "output_type": "display_data"
    },
    {
     "name": "stdout",
     "output_type": "stream",
     "text": [
      "Epoch [1/10], Validation Accuracy: 72.04%, Validation Loss: 0.8921\n"
     ]
    },
    {
     "data": {
      "application/vnd.jupyter.widget-view+json": {
       "model_id": "af9549a596dd48229db5305ee0442807",
       "version_major": 2,
       "version_minor": 0
      },
      "text/plain": [
       "  0%|          | 0/563 [00:00<?, ?it/s]"
      ]
     },
     "metadata": {},
     "output_type": "display_data"
    },
    {
     "name": "stdout",
     "output_type": "stream",
     "text": [
      "Epoch [2/10], Accuracy: 66.68%, Loss: 1.0193\n"
     ]
    },
    {
     "data": {
      "application/vnd.jupyter.widget-view+json": {
       "model_id": "697c3dbf011f4bde8f8f4072504fe53f",
       "version_major": 2,
       "version_minor": 0
      },
      "text/plain": [
       "  0%|          | 0/63 [00:00<?, ?it/s]"
      ]
     },
     "metadata": {},
     "output_type": "display_data"
    },
    {
     "name": "stdout",
     "output_type": "stream",
     "text": [
      "Epoch [2/10], Validation Accuracy: 73.69%, Validation Loss: 0.8423\n"
     ]
    },
    {
     "data": {
      "application/vnd.jupyter.widget-view+json": {
       "model_id": "4587a42b4fb644ee89da74e1bce088a2",
       "version_major": 2,
       "version_minor": 0
      },
      "text/plain": [
       "  0%|          | 0/563 [00:00<?, ?it/s]"
      ]
     },
     "metadata": {},
     "output_type": "display_data"
    },
    {
     "name": "stdout",
     "output_type": "stream",
     "text": [
      "Epoch [3/10], Accuracy: 67.92%, Loss: 0.9868\n"
     ]
    },
    {
     "data": {
      "application/vnd.jupyter.widget-view+json": {
       "model_id": "eeab929919194d79a3920f5b02d98e92",
       "version_major": 2,
       "version_minor": 0
      },
      "text/plain": [
       "  0%|          | 0/63 [00:00<?, ?it/s]"
      ]
     },
     "metadata": {},
     "output_type": "display_data"
    },
    {
     "name": "stdout",
     "output_type": "stream",
     "text": [
      "Epoch [3/10], Validation Accuracy: 74.14%, Validation Loss: 0.8120\n"
     ]
    },
    {
     "data": {
      "application/vnd.jupyter.widget-view+json": {
       "model_id": "029e81d3ffee446eacf4de01bbfba00c",
       "version_major": 2,
       "version_minor": 0
      },
      "text/plain": [
       "  0%|          | 0/563 [00:00<?, ?it/s]"
      ]
     },
     "metadata": {},
     "output_type": "display_data"
    },
    {
     "name": "stdout",
     "output_type": "stream",
     "text": [
      "Epoch [4/10], Accuracy: 68.27%, Loss: 0.9715\n"
     ]
    },
    {
     "data": {
      "application/vnd.jupyter.widget-view+json": {
       "model_id": "c8c5d51874364573ae5a4a84f3167670",
       "version_major": 2,
       "version_minor": 0
      },
      "text/plain": [
       "  0%|          | 0/63 [00:00<?, ?it/s]"
      ]
     },
     "metadata": {},
     "output_type": "display_data"
    },
    {
     "name": "stdout",
     "output_type": "stream",
     "text": [
      "Epoch [4/10], Validation Accuracy: 74.49%, Validation Loss: 0.7987\n"
     ]
    },
    {
     "data": {
      "application/vnd.jupyter.widget-view+json": {
       "model_id": "d89c91a19a05409e817964affe0f7519",
       "version_major": 2,
       "version_minor": 0
      },
      "text/plain": [
       "  0%|          | 0/563 [00:00<?, ?it/s]"
      ]
     },
     "metadata": {},
     "output_type": "display_data"
    },
    {
     "name": "stdout",
     "output_type": "stream",
     "text": [
      "Epoch [5/10], Accuracy: 68.40%, Loss: 0.9638\n"
     ]
    },
    {
     "data": {
      "application/vnd.jupyter.widget-view+json": {
       "model_id": "f6d7bfa41f9a4c6fa7cc2e18a9d3aeb8",
       "version_major": 2,
       "version_minor": 0
      },
      "text/plain": [
       "  0%|          | 0/63 [00:00<?, ?it/s]"
      ]
     },
     "metadata": {},
     "output_type": "display_data"
    },
    {
     "name": "stdout",
     "output_type": "stream",
     "text": [
      "Epoch [5/10], Validation Accuracy: 74.99%, Validation Loss: 0.7865\n"
     ]
    },
    {
     "data": {
      "application/vnd.jupyter.widget-view+json": {
       "model_id": "a05eeb0e73f6466588a8fa55b8a10687",
       "version_major": 2,
       "version_minor": 0
      },
      "text/plain": [
       "  0%|          | 0/563 [00:00<?, ?it/s]"
      ]
     },
     "metadata": {},
     "output_type": "display_data"
    },
    {
     "name": "stdout",
     "output_type": "stream",
     "text": [
      "Epoch [6/10], Accuracy: 68.76%, Loss: 0.9472\n"
     ]
    },
    {
     "data": {
      "application/vnd.jupyter.widget-view+json": {
       "model_id": "4feab8f851ac4bfa83835c6673f4fad4",
       "version_major": 2,
       "version_minor": 0
      },
      "text/plain": [
       "  0%|          | 0/63 [00:00<?, ?it/s]"
      ]
     },
     "metadata": {},
     "output_type": "display_data"
    },
    {
     "name": "stdout",
     "output_type": "stream",
     "text": [
      "Epoch [6/10], Validation Accuracy: 75.19%, Validation Loss: 0.7662\n"
     ]
    },
    {
     "data": {
      "application/vnd.jupyter.widget-view+json": {
       "model_id": "bd9944bb6c604146b053c7b52b312fb2",
       "version_major": 2,
       "version_minor": 0
      },
      "text/plain": [
       "  0%|          | 0/563 [00:00<?, ?it/s]"
      ]
     },
     "metadata": {},
     "output_type": "display_data"
    },
    {
     "name": "stdout",
     "output_type": "stream",
     "text": [
      "Epoch [7/10], Accuracy: 68.74%, Loss: 0.9462\n"
     ]
    },
    {
     "data": {
      "application/vnd.jupyter.widget-view+json": {
       "model_id": "a9d7e6daa2504ab5b220531b404a938c",
       "version_major": 2,
       "version_minor": 0
      },
      "text/plain": [
       "  0%|          | 0/63 [00:00<?, ?it/s]"
      ]
     },
     "metadata": {},
     "output_type": "display_data"
    },
    {
     "name": "stdout",
     "output_type": "stream",
     "text": [
      "Epoch [7/10], Validation Accuracy: 74.54%, Validation Loss: 0.7636\n"
     ]
    },
    {
     "data": {
      "application/vnd.jupyter.widget-view+json": {
       "model_id": "f91033db9fde484ca8a15dda3408dde8",
       "version_major": 2,
       "version_minor": 0
      },
      "text/plain": [
       "  0%|          | 0/563 [00:00<?, ?it/s]"
      ]
     },
     "metadata": {},
     "output_type": "display_data"
    },
    {
     "name": "stdout",
     "output_type": "stream",
     "text": [
      "Epoch [8/10], Accuracy: 69.15%, Loss: 0.9409\n"
     ]
    },
    {
     "data": {
      "application/vnd.jupyter.widget-view+json": {
       "model_id": "3f6d12e5a8e54dd2890d8594600a627e",
       "version_major": 2,
       "version_minor": 0
      },
      "text/plain": [
       "  0%|          | 0/63 [00:00<?, ?it/s]"
      ]
     },
     "metadata": {},
     "output_type": "display_data"
    },
    {
     "name": "stdout",
     "output_type": "stream",
     "text": [
      "Epoch [8/10], Validation Accuracy: 75.64%, Validation Loss: 0.7672\n"
     ]
    },
    {
     "data": {
      "application/vnd.jupyter.widget-view+json": {
       "model_id": "acef82dd18a74bd19b0521d899a48560",
       "version_major": 2,
       "version_minor": 0
      },
      "text/plain": [
       "  0%|          | 0/563 [00:00<?, ?it/s]"
      ]
     },
     "metadata": {},
     "output_type": "display_data"
    },
    {
     "name": "stdout",
     "output_type": "stream",
     "text": [
      "Epoch [9/10], Accuracy: 68.86%, Loss: 0.9411\n"
     ]
    },
    {
     "data": {
      "application/vnd.jupyter.widget-view+json": {
       "model_id": "c2a2844eec4847c9a291c9dcca35d0c6",
       "version_major": 2,
       "version_minor": 0
      },
      "text/plain": [
       "  0%|          | 0/63 [00:00<?, ?it/s]"
      ]
     },
     "metadata": {},
     "output_type": "display_data"
    },
    {
     "name": "stdout",
     "output_type": "stream",
     "text": [
      "Epoch [9/10], Validation Accuracy: 73.49%, Validation Loss: 0.8258\n"
     ]
    },
    {
     "data": {
      "application/vnd.jupyter.widget-view+json": {
       "model_id": "09e14787861447d6bc5900cbb02f3c39",
       "version_major": 2,
       "version_minor": 0
      },
      "text/plain": [
       "  0%|          | 0/563 [00:00<?, ?it/s]"
      ]
     },
     "metadata": {},
     "output_type": "display_data"
    },
    {
     "name": "stdout",
     "output_type": "stream",
     "text": [
      "Epoch [10/10], Accuracy: 68.79%, Loss: 0.9353\n"
     ]
    },
    {
     "data": {
      "application/vnd.jupyter.widget-view+json": {
       "model_id": "05731027011b4302a078f7b53226e1bc",
       "version_major": 2,
       "version_minor": 0
      },
      "text/plain": [
       "  0%|          | 0/63 [00:00<?, ?it/s]"
      ]
     },
     "metadata": {},
     "output_type": "display_data"
    },
    {
     "name": "stdout",
     "output_type": "stream",
     "text": [
      "Epoch [10/10], Validation Accuracy: 74.84%, Validation Loss: 0.7800\n"
     ]
    },
    {
     "data": {
      "application/vnd.jupyter.widget-view+json": {
       "model_id": "84702913b2d949f2a906ee1caa65abf3",
       "version_major": 2,
       "version_minor": 0
      },
      "text/plain": [
       "  0%|          | 0/63 [00:00<?, ?it/s]"
      ]
     },
     "metadata": {},
     "output_type": "display_data"
    },
    {
     "name": "stdout",
     "output_type": "stream",
     "text": [
      "Test Accuracy: 72.80%, Test Loss: 0.8000\n"
     ]
    },
    {
     "data": {
      "application/vnd.jupyter.widget-view+json": {
       "model_id": "",
       "version_major": 2,
       "version_minor": 0
      },
      "text/plain": [
       "VBox(children=(Label(value='0.001 MB of 0.001 MB uploaded\\r'), FloatProgress(value=1.0, max=1.0)))"
      ]
     },
     "metadata": {},
     "output_type": "display_data"
    },
    {
     "data": {
      "text/html": [
       "<style>\n",
       "    table.wandb td:nth-child(1) { padding: 0 10px; text-align: left ; width: auto;} td:nth-child(2) {text-align: left ; width: 100%}\n",
       "    .wandb-row { display: flex; flex-direction: row; flex-wrap: wrap; justify-content: flex-start; width: 100% }\n",
       "    .wandb-col { display: flex; flex-direction: column; flex-basis: 100%; flex: 1; padding: 10px; }\n",
       "    </style>\n",
       "<div class=\"wandb-row\"><div class=\"wandb-col\"><h3>Run history:</h3><br/><table class=\"wandb\"><tr><td>accuracy</td><td>▁▆▇▇▇█████</td></tr><tr><td>loss</td><td>█▃▂▂▂▁▁▁▁▁</td></tr><tr><td>val_accuracy</td><td>▁▄▅▆▇▇▆█▄▆</td></tr><tr><td>val_loss</td><td>█▅▄▃▂▁▁▁▄▂</td></tr></table><br/></div><div class=\"wandb-col\"><h3>Run summary:</h3><br/><table class=\"wandb\"><tr><td>accuracy</td><td>0.68787</td></tr><tr><td>loss</td><td>0.93531</td></tr><tr><td>val_accuracy</td><td>0.74837</td></tr><tr><td>val_loss</td><td>0.78004</td></tr></table><br/></div></div>"
      ],
      "text/plain": [
       "<IPython.core.display.HTML object>"
      ]
     },
     "metadata": {},
     "output_type": "display_data"
    },
    {
     "data": {
      "text/html": [
       " View run <strong style=\"color:#cdcd00\">crusher-phaser-5</strong> at: <a href='https://wandb.ai/cs23m024-gaurav/CS6910_Assignment_2_Part_B/runs/iwd1nwzx' target=\"_blank\">https://wandb.ai/cs23m024-gaurav/CS6910_Assignment_2_Part_B/runs/iwd1nwzx</a><br/> View job at <a href='https://wandb.ai/cs23m024-gaurav/CS6910_Assignment_2_Part_B/jobs/QXJ0aWZhY3RDb2xsZWN0aW9uOjE1NjgxNzUwNw==/version_details/v2' target=\"_blank\">https://wandb.ai/cs23m024-gaurav/CS6910_Assignment_2_Part_B/jobs/QXJ0aWZhY3RDb2xsZWN0aW9uOjE1NjgxNzUwNw==/version_details/v2</a><br/>Synced 6 W&B file(s), 0 media file(s), 0 artifact file(s) and 0 other file(s)"
      ],
      "text/plain": [
       "<IPython.core.display.HTML object>"
      ]
     },
     "metadata": {},
     "output_type": "display_data"
    },
    {
     "data": {
      "text/html": [
       "Find logs at: <code>./wandb/run-20240405_215501-iwd1nwzx/logs</code>"
      ],
      "text/plain": [
       "<IPython.core.display.HTML object>"
      ]
     },
     "metadata": {},
     "output_type": "display_data"
    }
   ],
   "source": [
    "def main():\n",
    "    dataset_path = '/kaggle/input/inaturalist-12k/inaturalist_12K/'  \n",
    "\n",
    "    data_augmentation = True\n",
    "    batch_size = 32\n",
    "    num_classes = 10\n",
    "    fine_tuning_method = 3\n",
    "    k = 5\n",
    "\n",
    "    def train():\n",
    "        with wandb.init(project=\"CS6910_Assignment_2_Part_B\") as run:\n",
    "            config = wandb.config\n",
    "            run_name = \"aug_\" + str(data_augmentation) + \"_bs_\" + str(batch_size) + \"_fine_tune_\" + str(fine_tuning_method) + \"_num_freeze_layer_all\"\n",
    "            if fine_tuning_method != 1:\n",
    "                run_name = \"aug_\" + str(data_augmentation) + \"_bs_\" + str(batch_size) + \"_fine_tune_\" + str(fine_tuning_method) + \"_num_freeze_layer_\" + str(k)\n",
    "            elif fine_tuning_method == 3:\n",
    "                run_name = \"aug_\" + str(data_augmentation) + \"_bs_\" + str(batch_size) + \"_fine_tune_\" + str(fine_tuning_method) + \"_num_freeze_layer_none\"\n",
    "\n",
    "            wandb.run.name = run_name\n",
    "            train_loader, val_loader, test_loader, class_names = data_generation(dataset_path, \n",
    "                                                                                     num_classes=10, \n",
    "                                                                                     data_augmentation=data_augmentation, \n",
    "                                                                                     batch_size=batch_size)\n",
    "            print(\"Train: \", len(train_loader))\n",
    "            print(\"Val: \", len(val_loader))\n",
    "            print(\"Test: \", len(test_loader))\n",
    "    \n",
    "            device = torch.device(\"cuda\" if torch.cuda.is_available() else \"cpu\")\n",
    "            print(\"Device: \", device)\n",
    "        \n",
    "            model = models.googlenet(pretrained=True)\n",
    "\n",
    "            if fine_tuning_method == 1:\n",
    "                feature_extraction(model, device)\n",
    "                model.fc = nn.Linear(model.fc.in_features, num_classes)\n",
    "                model.to(device)\n",
    "                trainCNN(device, train_loader, val_loader, test_loader, model, num_epochs=10, optimizer=\"Adam\")\n",
    "            \n",
    "            elif fine_tuning_method == 2:\n",
    "                freeze_till_k(model, device, k)\n",
    "                model.fc = nn.Linear(model.fc.in_features, num_classes)\n",
    "                model.to(device)\n",
    "                trainCNN(device, train_loader, val_loader, test_loader, model, num_epochs=10, optimizer=\"Adam\")\n",
    "\n",
    "            else:\n",
    "                feature_extraction(model, device)\n",
    "                model.fc = nn.Linear(model.fc.in_features, num_classes)\n",
    "                model.to(device)\n",
    "                trainCNN(device, train_loader, val_loader, test_loader, model, num_epochs=10, optimizer=\"Adam\")\n",
    "    train()\n",
    "    wandb.finish()\n",
    "    \n",
    "main()"
   ]
  }
 ],
 "metadata": {
  "kernelspec": {
   "display_name": "Python 3 (ipykernel)",
   "language": "python",
   "name": "python3"
  },
  "language_info": {
   "codemirror_mode": {
    "name": "ipython",
    "version": 3
   },
   "file_extension": ".py",
   "mimetype": "text/x-python",
   "name": "python",
   "nbconvert_exporter": "python",
   "pygments_lexer": "ipython3",
   "version": "3.12.2"
  }
 },
 "nbformat": 4,
 "nbformat_minor": 5
}
